{
 "cells": [
  {
   "cell_type": "markdown",
   "metadata": {},
   "source": [
    "# 2. Linear Algebra"
   ]
  },
  {
   "cell_type": "markdown",
   "metadata": {},
   "source": [
    "## 1) Cramer's method"
   ]
  },
  {
   "cell_type": "markdown",
   "metadata": {},
   "source": [
    "다음의 연립방정식을 풀고자한다.\n",
    "\n",
    "$$\\mathbf A \\mathrm x = \\mathrm b = \\begin{bmatrix}a_{11} & a_{12} \\\\ a_{21} & a_{22} \\end{bmatrix}\\begin{pmatrix} x_1 \\\\ x_2 \\end{pmatrix} = \\begin{pmatrix} b_1 \\\\ b_2 \\end{pmatrix}$$\n",
    "\n",
    "행렬식을 다음과 같이 정의하자.\n",
    "\n",
    "$$\\det(\\mathbf A) = \\begin{vmatrix}a_{11} & a_{12} \\\\ a_{21} & a_{22} \\end{vmatrix}$$\n",
    "\n",
    "$$\\det(\\mathbf A_1) = \\begin{vmatrix}b_{1} & a_{12} \\\\ b_{2} & a_{22} \\end{vmatrix}$$\n",
    "\n",
    "$$\\det(\\mathbf A_2) = \\begin{vmatrix}a_{11} & b_{1} \\\\ a_{21} & b_{2} \\end{vmatrix}$$"
   ]
  },
  {
   "cell_type": "markdown",
   "metadata": {},
   "source": [
    "Cramer 방법에 의해 해는 다음과 같이 계산된다.\n",
    "\n",
    "$$x_1 = \\frac{\\det (\\mathbf A_1)}{\\det (\\mathbf A)}$$\n",
    "\n",
    "$$x_2 = \\frac{\\det (\\mathbf A_2)}{\\det (\\mathbf A)}$$"
   ]
  },
  {
   "cell_type": "code",
   "execution_count": 3,
   "metadata": {},
   "outputs": [],
   "source": [
    "import numpy as np\n",
    "import matplotlib.pyplot as plt"
   ]
  },
  {
   "cell_type": "code",
   "execution_count": 7,
   "metadata": {},
   "outputs": [],
   "source": [
    "def cramer(A, b):\n",
    "    from numpy import array, zeros\n",
    "    from numpy.linalg import det\n",
    "    n = len(b)\n",
    "    x = zeros((n))\n",
    "    detsub = zeros((n))\n",
    "    detA = det(A)\n",
    "    \n",
    "    for i in range(n):\n",
    "        Atemp = A.copy()\n",
    "        Atemp[:, i] = b\n",
    "        detsub[i] = det(Atemp)\n",
    "        x[i] = detsub[i] / detA\n",
    "    return detsub, x"
   ]
  },
  {
   "cell_type": "code",
   "execution_count": 34,
   "metadata": {},
   "outputs": [],
   "source": [
    "A = np.array([[5, -1, 1], [-1, 3, -1], [1, -1, 4]])\n",
    "b = np.array([6, 2, 11])\n",
    "\n",
    "detsub, x = cramer(A,b)"
   ]
  },
  {
   "cell_type": "markdown",
   "metadata": {},
   "source": [
    "그러나 Cramer 공식은 행렬의 차원이 3을 넘어가면 수치해석적인 측면에서 비효율적이다. $O(n \\times n!)$"
   ]
  },
  {
   "cell_type": "markdown",
   "metadata": {},
   "source": [
    "## 2) Gaussian Elimination"
   ]
  },
  {
   "cell_type": "markdown",
   "metadata": {},
   "source": [
    "$$\\mathbf A \\mathrm x = \\mathrm b \\to \\mathbf U \\mathrm x = \\mathrm{\\bar b}$$\n",
    "\n",
    "$\\mathbf U$ 는 상부삼각행렬이다."
   ]
  },
  {
   "cell_type": "code",
   "execution_count": 31,
   "metadata": {},
   "outputs": [
    {
     "data": {
      "text/plain": [
       "array([[-1,  3, -1],\n",
       "       [ 1, -1,  4],\n",
       "       [ 5, -1,  1]])"
      ]
     },
     "execution_count": 31,
     "metadata": {},
     "output_type": "execute_result"
    }
   ],
   "source": [
    "A\n",
    "\n",
    "A[list(np.argsort(np.diagonal(A))), :]"
   ]
  },
  {
   "cell_type": "code",
   "execution_count": 39,
   "metadata": {},
   "outputs": [
    {
     "name": "stdout",
     "output_type": "stream",
     "text": [
      "2th diagonal 성분이 0입니다.\n"
     ]
    },
    {
     "data": {
      "text/plain": [
       "array([[ 5, -1,  1,  6],\n",
       "       [ 0,  2,  0,  3],\n",
       "       [ 0,  0,  3,  9]])"
      ]
     },
     "execution_count": 39,
     "metadata": {},
     "output_type": "execute_result"
    }
   ],
   "source": [
    "def gausselim(A, b):\n",
    "    from numpy import array, zeros, append\n",
    "    import numpy as np\n",
    "    \n",
    "    ##Augmented matrix\n",
    "    augA = np.c_[A, b]\n",
    "\n",
    "    n = len(b)\n",
    "    x = zeros((n))  \n",
    "    p = array([zeros((n)) for i in range(n)])\n",
    "    \n",
    "    ##Gaussian elimination\n",
    "    for j in range(0, n-01):\n",
    "        for i in range(1, n):    \n",
    "            try:\n",
    "                augA[i+j, :] = augA[i+j, :] - augA[j, :] * (augA[i+j,j] / augA[j,j])\n",
    "            except:\n",
    "                print(\"{}th diagonal 성분이 0입니다.\".format(j+1))\n",
    "    ##Reduced echleon form\n",
    "    for i in range(0, n):\n",
    "        for j in range(i+1, n+1):\n",
    "            augA[i,j] = augA[i,j] / augA[i,i]\n",
    "            augA[i,i] = 1\n",
    "            if i < n:\n",
    "                for k in range(i+1, n):\n",
    "                    augA[k, :] = augA[k,:] - augA[k,i] * augA[i, :]\n",
    "    x = zeros((n))\n",
    "    for \n",
    "    \n",
    "    return augA\n",
    "        \n",
    "   \n",
    "    \n",
    "        \n",
    "        \n",
    "A = np.array([[5, -1, 1], [-1, 3, -1], [1, -1, 4]]) \n",
    "gausselim(A, b)"
   ]
  },
  {
   "cell_type": "code",
   "execution_count": 19,
   "metadata": {},
   "outputs": [
    {
     "data": {
      "text/plain": [
       "array([[0., 0., 0., 0., 0., 0., 0., 0., 0., 0.],\n",
       "       [0., 0., 0., 0., 0., 0., 0., 0., 0., 0.],\n",
       "       [0., 0., 0., 0., 0., 0., 0., 0., 0., 0.],\n",
       "       [0., 0., 0., 0., 0., 0., 0., 0., 0., 0.],\n",
       "       [0., 0., 0., 0., 0., 0., 0., 0., 0., 0.],\n",
       "       [0., 0., 0., 0., 0., 0., 0., 0., 0., 0.],\n",
       "       [0., 0., 0., 0., 0., 0., 0., 0., 0., 0.],\n",
       "       [0., 0., 0., 0., 0., 0., 0., 0., 0., 0.],\n",
       "       [0., 0., 0., 0., 0., 0., 0., 0., 0., 0.],\n",
       "       [0., 0., 0., 0., 0., 0., 0., 0., 0., 0.]])"
      ]
     },
     "execution_count": 19,
     "metadata": {},
     "output_type": "execute_result"
    }
   ],
   "source": [
    "np.array([np.zeros((10)) for i in range(10)])"
   ]
  },
  {
   "cell_type": "code",
   "execution_count": 38,
   "metadata": {},
   "outputs": [
    {
     "data": {
      "text/plain": [
       "True"
      ]
     },
     "execution_count": 38,
     "metadata": {},
     "output_type": "execute_result"
    }
   ],
   "source": [
    "0 != 1"
   ]
  },
  {
   "cell_type": "markdown",
   "metadata": {},
   "source": [
    "## 3) LU Decomposition"
   ]
  },
  {
   "cell_type": "code",
   "execution_count": 1,
   "metadata": {},
   "outputs": [],
   "source": [
    "def ludecomp(A, b):\n",
    "    from numpy import array, zeros, append\n",
    "    import numpy as np\n",
    "    \n",
    "    n = len(b)\n",
    "    l_length = n * (n-1) / 2\n",
    "    ## first row of U\n",
    "    U = array([zeros((n)) for i in range(n)])\n",
    "    L = array([zeros((n)) for i in range(n)])\n",
    "    \n",
    "    U[0, :] = A[0, :]\n",
    "    \n",
    "    L[1,0] = A[1, 0] / U[0, 0]\n",
    "    U[1,1] = A[1, 1] - L[1, 0] * U[0, 1]\n",
    "    U[1,2] = A[1, 2] - L[1, 0] * U[0, 2]\n",
    "    \n",
    "    L[2, 0] = A[2, 0] / U[0, 0]\n",
    "    L[2, 1] = A[2, 1] - L[2, 0] * U[0, 1] / U[1,1]\n",
    "    \n",
    "    U[2,2] = A[2, 2] - L[2,0] * U[0,2] - L[2,1] * U[1,2]\n",
    "\n",
    "    return L, U   "
   ]
  },
  {
   "cell_type": "code",
   "execution_count": 4,
   "metadata": {},
   "outputs": [
    {
     "data": {
      "text/plain": [
       "(array([[ 0.        ,  0.        ,  0.        ],\n",
       "        [-0.2       ,  0.        ,  0.        ],\n",
       "        [ 0.2       , -0.92857143,  0.        ]]),\n",
       " array([[ 5.        , -1.        ,  1.        ],\n",
       "        [ 0.        ,  2.8       , -0.8       ],\n",
       "        [ 0.        ,  0.        ,  3.05714286]]))"
      ]
     },
     "execution_count": 4,
     "metadata": {},
     "output_type": "execute_result"
    }
   ],
   "source": [
    "A = np.array([[5, -1, 1], [-1, 3, -1], [1, -1, 4]])\n",
    "b = np.array([6, 2, 11])\n",
    "\n",
    "\n",
    "ludecomp(A, b)"
   ]
  },
 ],
 "metadata": {
  "hide_input": false,
  "kernelspec": {
   "display_name": "Python 3",
   "language": "python",
   "name": "python3"
  },
  "language_info": {
   "codemirror_mode": {
    "name": "ipython",
    "version": 3
   },
   "file_extension": ".py",
   "mimetype": "text/x-python",
   "name": "python",
   "nbconvert_exporter": "python",
   "pygments_lexer": "ipython3",
   "version": "3.7.4"
  }
 },
 "nbformat": 4,
 "nbformat_minor": 2
}
